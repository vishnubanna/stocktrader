{
  "nbformat": 4,
  "nbformat_minor": 0,
  "metadata": {
    "colab": {
      "name": "stock_analysis_nural_net.ipynb",
      "version": "0.3.2",
      "provenance": [],
      "collapsed_sections": [],
      "include_colab_link": true
    },
    "kernelspec": {
      "name": "python3",
      "display_name": "Python 3"
    }
  },
  "cells": [
    {
      "cell_type": "markdown",
      "metadata": {
        "id": "view-in-github",
        "colab_type": "text"
      },
      "source": [
        "<a href=\"https://colab.research.google.com/github/vishnubanna/stocktrader/blob/master/stock_analysis_nural_net.ipynb\" target=\"_parent\"><img src=\"https://colab.research.google.com/assets/colab-badge.svg\" alt=\"Open In Colab\"/></a>"
      ]
    },
    {
      "cell_type": "code",
      "metadata": {
        "id": "EklFTavK5Wbk",
        "colab_type": "code",
        "outputId": "a6bdeb75-23d3-4e4a-c889-8dc59f12ec74",
        "colab": {
          "base_uri": "https://localhost:8080/",
          "height": 54
        }
      },
      "source": [
        "from google.colab import drive\n",
        "drive.mount(\"/content/drive\")\n",
        "import os"
      ],
      "execution_count": 0,
      "outputs": [
        {
          "output_type": "stream",
          "text": [
            "Drive already mounted at /content/drive; to attempt to forcibly remount, call drive.mount(\"/content/drive\", force_remount=True).\n"
          ],
          "name": "stdout"
        }
      ]
    },
    {
      "cell_type": "code",
      "metadata": {
        "id": "vN_exucx2iPU",
        "colab_type": "code",
        "outputId": "d83cfea8-9903-43b5-f402-cd9989c967a9",
        "colab": {
          "base_uri": "https://localhost:8080/",
          "height": 593
        }
      },
      "source": [
        "import pandas as pd\n",
        "import numpy as np\n",
        "import os\n",
        "import datetime as dt\n",
        "from pandas_datareader import data as pdr\n",
        "import tensorflow as tf\n",
        "import matplotlib.pyplot as plt\n",
        "from matplotlib import style\n",
        "\n",
        "style.use('ggplot')\n",
        "\n",
        "data_file = \"/content/drive/My Drive/Colab Notebooks/AAPL.csv\"\n",
        "df = pd.read_csv(data_file, parse_dates = True, index_col = 0)\n",
        "#print(df.tail())\n",
        "\n",
        "df['50 MAvg'] = df['Close'].rolling(window = 50, min_periods = 0).mean()\n",
        "df['20 MAvg'] = df['Close'].rolling(window = 20, min_periods = 0).mean()\n",
        "df['volitility'] = (df['Close']-df['50 MAvg'])/df['Close'] * 100\n",
        "\n",
        "df['vshift'] = df['volitility'].shift(1)\n",
        "df.dropna(0, inplace = True)\n",
        "df['volSlope'] = df['volitility'] - df['vshift']\n",
        "\n",
        "df['50MAshift'] = df['50 MAvg'].shift(1)\n",
        "df.dropna(0, inplace = True)\n",
        "df['50MASlope'] = (df['50 MAvg'] - df['50MAshift'])\n",
        "\n",
        "df['% change day'] = (df['Open'] - df['Close']) / df['Open'] * 100\n",
        "df['% daily volit'] = (df['High'] - df['Close']) / df['High'] * 100\n",
        "\n",
        "#print(df.head())\n",
        "\n",
        "df['Close'].plot()\n",
        "df['50 MAvg'].plot()\n",
        "df['20 MAvg'].plot()\n",
        "df['volitility'].plot()\n",
        "\n",
        "#df['volSlope'].plot()\n",
        "#df['50MASlope'].plot()\n",
        "\n",
        "#sell if 20 moving avg is larger than 50 option one\n",
        "#sell if close is larger than 50 moving avg option two\n",
        "#sell if the derivative volititility is negative\n",
        "#if slope is positive buy/stay, if the slope is negative, sell option 3\n",
        "\n",
        "df = df[['Close','20 MAvg','50 MAvg', 'Volume', 'volitility', '% daily volit','% change day' ,'Volume']]\n",
        "print(df.head(), df.tail())\n",
        "\n",
        "\n"
      ],
      "execution_count": 0,
      "outputs": [
        {
          "output_type": "stream",
          "text": [
            "                Close    20 MAvg  ...  % change day     Volume\n",
            "Date                              ...                         \n",
            "2014-05-23  87.732857  87.033808  ...     -1.132976   58052400\n",
            "2014-05-27  89.375717  87.619286  ...     -1.583104   87216500\n",
            "2014-05-28  89.144287  87.924286  ...      0.321073   78870400\n",
            "2014-05-29  90.768570  88.398333  ...     -1.199331   94118500\n",
            "2014-05-30  90.428574  88.688368  ...      0.780585  141005200\n",
            "\n",
            "[5 rows x 8 columns]                  Close     20 MAvg  ...  % change day    Volume\n",
            "Date                                ...                        \n",
            "2019-05-06  208.479996  203.871999  ...     -2.051007  32443100\n",
            "2019-05-07  202.860001  204.009999  ...      1.466876  38763700\n",
            "2019-05-08  202.899994  204.179999  ...     -0.495295  26339500\n",
            "2019-05-09  200.720001  204.184999  ...     -0.159684  34908600\n",
            "2019-05-10  197.179993  204.096499  ...      0.121571  41208700\n",
            "\n",
            "[5 rows x 8 columns]\n"
          ],
          "name": "stdout"
        },
        {
          "output_type": "display_data",
          "data": {
            "image/png": "[encoded data removed]",
            "text/plain": [
              "<Figure size 432x288 with 1 Axes>"
            ]
          },
          "metadata": {
            "tags": []
          }
        }
      ]
    },
    {
      "cell_type": "code",
      "metadata": {
        "id": "g-WPXK4bVTsK",
        "colab_type": "code",
        "outputId": "13e694cd-3ea1-4ce9-8c8d-c165deed0f97",
        "colab": {
          "base_uri": "https://localhost:8080/",
          "height": 139
        }
      },
      "source": [
        "#for any of these algorithems, we need to be able predict if there will be\n",
        "#a down trend following the the alpha condition\n",
        "\n",
        "df['test'] = df['20 MAvg'] - df['50 MAvg']\n",
        "\n",
        "#if test is positive, hold if it is negative sell\n",
        "test = np.ndarray.flatten(np.array(df.test))\n",
        "close = np.ndarray.flatten(np.array(df.Close))\n",
        "\n",
        "print(test)\n",
        "print(close)\n",
        "\n",
        "money = 100\n",
        "stocks = 0\n",
        "bought = 0\n",
        "sells = 0 \n",
        "holds = 0 \n",
        "buys = 0\n",
        "count = 0 \n",
        "start = 100\n",
        "buy_price = 100\n",
        "\n",
        "def buy(money, price, stocks, buys):\n",
        "  money = money - price \n",
        "  stocks = stocks + 1\n",
        "  buys = price\n",
        "  return money, stocks, buys\n",
        "\n",
        "def sell(money, price, stocks, sells):\n",
        "  money = money + price * 0.95\n",
        "  stocks = stocks - 1\n",
        "  return money, stocks, sells\n",
        "\n",
        "def hold(holds):\n",
        "  pass\n",
        "\n",
        "length = len(test)\n",
        "\n",
        "for i in range(len(test)):\n",
        "  delt = float(test[i])\n",
        "  price = float(close[i])\n",
        "  count = count + 1\n",
        "  if delt >= 0 and stocks == 0:\n",
        "    #print(money, delt, price)\n",
        "    if not (money < price):\n",
        "      money, stocks, buy_price = buy(money, price, stocks, buy_price)\n",
        "      buys = buys + 1\n",
        "    else:\n",
        "      holds = holds + 1\n",
        "    #print(money, stocks, buys, sells, holds)\n",
        "    #print('\\n')\n",
        "  elif delt < 0 and stocks == 1:\n",
        "    #print(money, delt, price)\n",
        "    if price*0.95 > buy_price: #alpha condition\n",
        "      money, stocks, sells = sell(money, price, stocks, sells)\n",
        "      sells = sells + 1\n",
        "    else:\n",
        "      holds = holds + 1\n",
        "    #print(money, stocks, buys, sells, holds)\n",
        "    #print('\\n')\n",
        "  else:\n",
        "    holds = holds + 1\n",
        " \n",
        " \n",
        "print(length, money, stocks, sells, holds, buys)\n",
        "print(count)\n",
        "\n",
        "profit = (money - start)/money * 100\n",
        "print(profit) "
      ],
      "execution_count": 0,
      "outputs": [
        {
          "output_type": "stream",
          "text": [
            "[ 0.          0.          0.         ... 11.10619884 10.59419902\n",
            " 10.02509884]\n",
            "[ 89.144287  90.76857   90.428574 ... 202.899994 200.720001 197.179993]\n",
            "1248 105.87270719999998 0 2 1244 2\n",
            "1248\n",
            "5.546951008729831\n"
          ],
          "name": "stdout"
        }
      ]
    },
    {
      "cell_type": "code",
      "metadata": {
        "id": "g8Dl3gbhAem5",
        "colab_type": "code",
        "outputId": "f59002ce-76f7-4e21-fd25-957cebbd87a5",
        "colab": {
          "base_uri": "https://localhost:8080/",
          "height": 377
        }
      },
      "source": [
        "df['20MAshift'] = df['20 MAvg'].shift(1)\n",
        "print(df['20MAshift'].head())\n",
        "df.dropna(0, inplace = True)\n",
        "df['test'] = df['20 MAvg'] - df['20MAshift'] \n",
        "print(df['test'].head())\n",
        "\n",
        "test = np.ndarray.flatten(np.array(df.test))\n",
        "close = np.ndarray.flatten(np.array(df.Close))\n",
        "\n",
        "print(test)\n",
        "print(close)\n",
        "\n",
        "money = 100\n",
        "stocks = 0\n",
        "bought = 0\n",
        "sells = 0 \n",
        "holds = 0 \n",
        "buys = 0\n",
        "sell_price = 100\n",
        "\n",
        "def buy(money, price, stocks, buys):\n",
        "  money = money - price\n",
        "  stocks = stocks + 1\n",
        "  buys = buys + 1\n",
        "  return money, stocks, buys\n",
        "\n",
        "def sell(money, price, stocks, sells):\n",
        "  money = money + price * 0.95\n",
        "  stocks = stocks - 1\n",
        "  sells = sells + 1\n",
        "  return money, stocks, sells\n",
        "\n",
        "def hold(holds):\n",
        "  holds = holds + 1\n",
        "  return holds\n",
        "\n",
        "length = len(test)\n",
        "\n",
        "\n",
        "for i in range(len(test)):\n",
        "  delt = float(test[i])\n",
        "  price = float(close[i])\n",
        "  count = count + 1\n",
        "  if delt >= 0 and stocks == 0:\n",
        "    #print(money, delt, price)\n",
        "    if not (money < price):\n",
        "      money, stocks, buy_price = buy(money, price, stocks, buy_price)\n",
        "      buys = buys + 1\n",
        "    else:\n",
        "      holds = holds + 1\n",
        "    #print(money, stocks, buys, sells, holds)\n",
        "    #print('\\n')\n",
        "  elif delt < 0 and stocks == 1:\n",
        "    #print(money, delt, price)\n",
        "    if price*0.95 > buy_price:\n",
        "      money, stocks, sells = sell(money, price, stocks, sells)\n",
        "      sells = sells + 1\n",
        "    else:\n",
        "      holds = holds + 1\n",
        "    #print(money, stocks, buys, sells, holds)\n",
        "    #print('\\n')\n",
        "  else:\n",
        "    holds = holds + 1\n",
        " \n",
        " \n",
        "print(length, money, stocks, sells, holds, buys)\n",
        "print(count)\n",
        "\n",
        "profit = (money - start)/money * 100\n",
        "print(profit) "
      ],
      "execution_count": 0,
      "outputs": [
        {
          "output_type": "stream",
          "text": [
            "Date\n",
            "2014-05-28          NaN\n",
            "2014-05-29    87.924286\n",
            "2014-05-30    88.398333\n",
            "2014-06-02    88.688368\n",
            "2014-06-03    88.828215\n",
            "Name: 20MAshift, dtype: float64\n",
            "Date\n",
            "2014-05-29    0.474047\n",
            "2014-05-30    0.290034\n",
            "2014-06-02    0.139847\n",
            "2014-06-03    0.249881\n",
            "2014-06-04    0.303905\n",
            "Name: test, dtype: float64\n",
            "[ 0.47404737  0.2900344   0.13984705 ...  0.1699997   0.0050003\n",
            " -0.0885002 ]\n",
            "[ 90.76857   90.428574  89.807144 ... 202.899994 200.720001 197.179993]\n",
            "1247 140.28042299999998 0 8 1239 4\n",
            "2495\n",
            "28.714215525283944\n"
          ],
          "name": "stdout"
        }
      ]
    },
    {
      "cell_type": "code",
      "metadata": {
        "id": "C3zXfGV0DjFW",
        "colab_type": "code",
        "outputId": "94a67a9f-1293-4a53-9b6c-dd74e1403101",
        "colab": {
          "base_uri": "https://localhost:8080/",
          "height": 360
        }
      },
      "source": [
        "df['50MAshift'] = df['50 MAvg'].shift(1)\n",
        "print(df['50MAshift'].head())\n",
        "df.dropna(0, inplace = True)\n",
        "df['test'] = df['50 MAvg'] - df['50MAshift']\n",
        "print(df['test'].head())\n",
        "\n",
        "test = np.ndarray.flatten(np.array(df.test))\n",
        "close = np.ndarray.flatten(np.array(df.Close))\n",
        "\n",
        "print(test)\n",
        "print(close)\n",
        "\n",
        "money = 100\n",
        "stocks = 0\n",
        "bought = 0\n",
        "sells = 0 \n",
        "holds = 0 \n",
        "buys = 0\n",
        "sell_price = 100\n",
        "\n",
        "def buy(money, price, stocks, buys):\n",
        "  money = money - price \n",
        "  stocks = stocks + 1\n",
        "  buys = buys + 1\n",
        "  return money, stocks, buys\n",
        "\n",
        "def sell(money, price, stocks, sells):\n",
        "  money = money + price * 0.95\n",
        "  stocks = stocks - 1\n",
        "  sells = sells + 1\n",
        "  return money, stocks, sells\n",
        "\n",
        "def hold(holds):\n",
        "  holds = holds + 1\n",
        "  return holds\n",
        "\n",
        "length = len(test)\n",
        "\n",
        "for i in range(len(test)):\n",
        "  delt = float(test[i])\n",
        "  price = float(close[i])\n",
        "  count = count + 1\n",
        "  if delt >= 0 and stocks == 0:\n",
        "    #print(money, delt, price)\n",
        "    if not (money < price):\n",
        "      money, stocks, buy_price = buy(money, price, stocks, buy_price)\n",
        "      buys = buys + 1\n",
        "    else:\n",
        "      holds = holds + 1\n",
        "    #print(money, stocks, buys, sells, holds)\n",
        "    #print('\\n')\n",
        "  elif delt < 0 and stocks == 1:\n",
        "    #print(money, delt, price)\n",
        "    if price*0.95 > buy_price:\n",
        "      money, stocks, sells = sell(money, price, stocks, sells)\n",
        "      sells = sells + 1\n",
        "    else:\n",
        "      holds = holds + 1\n",
        "    #print(money, stocks, buys, sells, holds)\n",
        "    #print('\\n')\n",
        "  else:\n",
        "    holds = holds + 1\n",
        " \n",
        " \n",
        "print(length, money, stocks, sells, holds, buys)\n",
        "print(count)\n",
        "\n",
        "profit = (money - start)/money * 100\n",
        "print(profit) "
      ],
      "execution_count": 0,
      "outputs": [
        {
          "output_type": "stream",
          "text": [
            "Date\n",
            "2014-05-23          NaN\n",
            "2014-05-27    87.033808\n",
            "2014-05-28    87.619286\n",
            "2014-05-29    87.924286\n",
            "2014-05-30    88.398333\n",
            "Name: 50MAshift, dtype: float64\n",
            "Date\n",
            "2014-05-27    0.585477\n",
            "2014-05-28    0.305000\n",
            "2014-05-29    0.474047\n",
            "2014-05-30    0.290034\n",
            "2014-06-02    0.139847\n",
            "Name: test, dtype: float64\n",
            "[0.58547717 0.3050003  0.47404737 ... 0.57139984 0.51700012 0.48059998]\n",
            "[ 89.375717  89.144287  90.76857  ... 202.899994 200.720001 197.179993]\n",
            "1249 136.73077759999998 0 8 1241 4\n",
            "4990\n",
            "26.863576909841246\n"
          ],
          "name": "stdout"
        }
      ]
    },
    {
      "cell_type": "code",
      "metadata": {
        "id": "zuFxPHxzZHs5",
        "colab_type": "code",
        "outputId": "cd069ec4-bd4c-4e43-f955-315df008c896",
        "colab": {
          "base_uri": "https://localhost:8080/",
          "height": 337
        }
      },
      "source": [
        "from sklearn import preprocessing, svm\n",
        "from sklearn.model_selection import cross_validate, train_test_split\n",
        "from sklearn.linear_model import LinearRegression\n",
        "\n",
        "import datetime\n",
        "\n",
        "forecast_col = 'Close'\n",
        "df.fillna(-99999, inplace = True)\n",
        "forecast_out = 10\n",
        "\n",
        "df['Label'] = df[forecast_col].shift(-forecast_out)\n",
        "#print(df.tail())\n",
        "\n",
        "X = np.array(df.drop(['Label'], axis = 1))\n",
        "X = preprocessing.scale(X)\n",
        "X_lately = X[-forecast_out:] #forcastout = 30, (-)30 from the bottom \n",
        "X = X[:-forecast_out]\n",
        "\n",
        "df.dropna(inplace = True)\n",
        "y = np.array(df['Label'])\n",
        "X_train, X_test, y_train, y_test = train_test_split(X, y, test_size = 0.2)\n",
        "\n",
        "clf = LinearRegression(n_jobs = 10)\n",
        "clf.fit(X_train, y_train)\n",
        "accuracy = clf.score(X_test, y_test)\n",
        "print(accuracy)\n",
        "\n",
        "forecast_set = clf.predict(X_lately)\n",
        "\n",
        "print(forecast_set, accuracy, forecast_out)\n",
        "\n",
        "df['Forecast'] = np.nan\n",
        "\n",
        "last_date = df.iloc[-1].name\n",
        "last_unix = last_date.timestamp()\n",
        "one_day = 86400 #seconds in a day\n",
        "next_unix = last_unix + one_day\n",
        "\n",
        "for i in forecast_set:\n",
        "    next_date = datetime.datetime.fromtimestamp(next_unix) #iterates through the forecast_set\n",
        "    #makes the future features not a number\n",
        "    next_unix += one_day\n",
        "    df.loc[next_date] = [np.nan for _ in range(len(df.columns)-1)] + [i] #sets all the first colomns to not a numbers and make the last colomns what ever i is # rewatch to make sure\n",
        "    #df.loc :: references the index of the data frame\n",
        "    #the indec in this case is the date, so if the date doesn't exist it is saying make a date\n",
        "\n",
        "data_file = \"/content/drive/My Drive/Colab Notebooks/AAPLchek.csv\"\n",
        "dt = pd.read_csv(data_file, parse_dates = True, index_col = 0)\n",
        "\n",
        "dt['Close'].plot()\n",
        "df['Forecast'].plot()\n",
        "plt.legend(loc = 4)\n",
        "plt.xlabel('Date')\n",
        "plt.ylabel('Price')\n",
        "plt.show()\n"
      ],
      "execution_count": 0,
      "outputs": [
        {
          "output_type": "stream",
          "text": [
            "0.9659775683705529\n",
            "[207.0430954  201.04935396 213.86429173 212.55677034 214.48105518\n",
            " 210.96977115 204.20415791 204.67957653 200.41882784 196.12109165] 0.9659775683705529 10\n"
          ],
          "name": "stdout"
        },
        {
          "output_type": "display_data",
          "data": {
            "image/png": "[encoded data removed]",
            "text/plain": [
              "<Figure size 432x288 with 1 Axes>"
            ]
          },
          "metadata": {
            "tags": []
          }
        }
      ]
    },
    {
      "cell_type": "code",
      "metadata": {
        "id": "OWgAMpiucC6E",
        "colab_type": "code",
        "colab": {}
      },
      "source": [
        "pip install tensorflow==2.0.0-alpha0"
      ],
      "execution_count": 0,
      "outputs": []
    },
    {
      "cell_type": "code",
      "metadata": {
        "id": "WlJZw_94BXbL",
        "colab_type": "code",
        "outputId": "84a444c4-f409-46aa-ec2b-e8557c7a4676",
        "colab": {
          "base_uri": "https://localhost:8080/",
          "height": 408
        }
      },
      "source": [
        "import tensorflow as tf\n",
        "from sklearn.model_selection import train_test_split\n",
        "\n",
        "\n",
        "X_train, X_test, y_train, y_test = train_test_split(X, y, test_size = 0.2)\n",
        "\n",
        "#np.reshape(X_train, (X_train.shape[0],X_train.shape[1], 1))\n",
        "max = 1\n",
        "X_train = X_train[:,:,np.newaxis]\n",
        "y_train = y_train/max\n",
        "\n",
        "X_test = X_test[:,:,np.newaxis]\n",
        "y_test = y_test/max\n",
        "\n",
        "tf.reshape(X_train, [X_train.shape[0],X_train.shape[1],1])\n",
        "tf.reshape(y_train, [y_train.shape[0]])\n",
        "\n",
        "tf.reshape(X_test, [X_test.shape[0],X_test.shape[1],1])\n",
        "tf.reshape(y_test, [y_test.shape[0]])\n",
        "\n",
        "print(X_train.shape, y_train.shape)\n",
        "\n",
        "layers = [\n",
        "    #tf.keras.layers.InputLayer(input_shape = (X_train.shape[1],1)),\n",
        "    tf.keras.layers.Dense(units = 500, activation = tf.nn.relu, input_shape = (X_train.shape[1],1)),\n",
        "    tf.keras.layers.Dropout(0.25),\n",
        "    tf.keras.layers.Dense(units = 250, activation = tf.nn.relu),\n",
        "    tf.keras.layers.Dropout(0.25),\n",
        "    tf.keras.layers.Flatten(),\n",
        "    tf.keras.layers.Dense(units = 1, activation = tf.keras.activations.linear)\n",
        "]\n",
        "\n",
        "\n",
        "\n",
        "#model = tf.keras.Sequential(layers)\n",
        "model = tf.keras.Sequential(layers)\n",
        "\n",
        "model.compile(optimizer = tf.optimizers.Adam(), \n",
        "             loss = tf.losses.MeanSquaredError())\n",
        "\n",
        "model.fit(x = X_train, y = y_train, batch_size = 1, epochs = 10)\n",
        "model.save_weights('weights.tf')\n",
        "\n",
        "model.evaluate(x = X_test, y = y_test, batch_size = 1)\n",
        "\n",
        "\n",
        "test_mod = tf.keras.Sequential(layers)\n",
        "#test_mod.load_weights('weights.tf')\n",
        "\n",
        "#predictions = test_mod.predict(X_lately[:,:,np.newaxis])\n",
        "predictions = test_mod.predict(X_lately[:,:,np.newaxis])\n",
        "#X_lately = X_lately[:,:]\n",
        "\n",
        "#np.array(predictions)\n",
        "tf.print(predictions)\n",
        "np.array(predictions)\n",
        "predictions = np.ndarray.flatten(predictions).tolist()\n",
        "\n",
        "data_file = \"/content/drive/My Drive/Colab Notebooks/AAPLchek.csv\"\n",
        "df = pd.read_csv(data_file, parse_dates = True, index_col = 0)\n",
        "\n",
        "#predictions.plot()\n",
        "\n",
        "plt.subplot(1, 2, 1)\n",
        "df['Close'].plot()\n",
        "plt.subplot(1, 2, 2)\n",
        "plt.plot(predictions)"
      ],
      "execution_count": 0,
      "outputs": [
        {
          "output_type": "stream",
          "text": [
            "(992, 7, 1) (992,)\n",
            "Epoch 1/10\n",
            "992/992 [==============================] - 3s 3ms/sample - loss: 903515491351.7385\n",
            "Epoch 2/10\n",
            "992/992 [==============================] - 3s 3ms/sample - loss: 9752482905.5067\n",
            "Epoch 3/10\n",
            "992/992 [==============================] - 3s 3ms/sample - loss: 1043922949.4955\n",
            "Epoch 4/10\n",
            "992/992 [==============================] - 3s 3ms/sample - loss: 417925086.2212\n",
            "Epoch 5/10\n",
            "992/992 [==============================] - 3s 3ms/sample - loss: 153187560.1940\n",
            "Epoch 6/10\n",
            "992/992 [==============================] - 3s 3ms/sample - loss: 141783278.2944\n",
            "Epoch 7/10\n",
            "992/992 [==============================] - 3s 3ms/sample - loss: 72595191.6688\n",
            "Epoch 8/10\n",
            "992/992 [==============================] - 3s 3ms/sample - loss: 25628828.6944\n",
            "Epoch 9/10\n",
            "992/992 [==============================] - 3s 3ms/sample - loss: 61964880.7641\n",
            "Epoch 10/10\n",
            "992/992 [==============================] - 3s 3ms/sample - loss: 35594004.4442\n",
            "248/248 [==============================] - 0s 1ms/sample - loss: 20872.8470\n"
          ],
          "name": "stdout"
        },
        {
          "output_type": "execute_result",
          "data": {
            "text/plain": [
              "20872.84695139239"
            ]
          },
          "metadata": {
            "tags": []
          },
          "execution_count": 157
        }
      ]
    }
  ]
}